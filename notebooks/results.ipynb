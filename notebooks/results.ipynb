{
 "cells": [
  {
   "cell_type": "markdown",
   "metadata": {
    "vscode": {
     "languageId": "plaintext"
    }
   },
   "source": [
    "# Task results"
   ]
  },
  {
   "cell_type": "code",
   "execution_count": null,
   "metadata": {},
   "outputs": [],
   "source": [
    "% cd ../"
   ]
  },
  {
   "cell_type": "markdown",
   "metadata": {},
   "source": [
    "**Fetch and Load Dataset**"
   ]
  },
  {
   "cell_type": "code",
   "execution_count": null,
   "metadata": {},
   "outputs": [],
   "source": [
    "# ruff: noqa: E501\n",
    "import os\n",
    "\n",
    "os.makedirs(\"./data/\")\n",
    "\n",
    "!wget https://www-cs-toronto-edu.translate.goog/~kriz/cifar-10-python.tar.gz?_x_tr_sl=en&_x_tr_tl=es&_x_tr_hl=es&_x_tr_pto=tcb -O data/cifar-10-python.tar.gz\n",
    "!tar -xvzf cifar-10-python.tar.gz?_x_tr_sl=en"
   ]
  },
  {
   "cell_type": "markdown",
   "metadata": {},
   "source": [
    "**Load model**"
   ]
  },
  {
   "cell_type": "code",
   "execution_count": null,
   "metadata": {},
   "outputs": [],
   "source": [
    "from short_research_project.model.clip import load_clip\n",
    "\n",
    "clip_model, preprocess, tokenizer = load_clip(\"cuda\")"
   ]
  },
  {
   "cell_type": "markdown",
   "metadata": {},
   "source": [
    "**Load data**"
   ]
  },
  {
   "cell_type": "code",
   "execution_count": null,
   "metadata": {},
   "outputs": [],
   "source": [
    "from short_research_project.dataset import CIFAR10Dataset\n",
    "from short_research_project.utils import load_meta\n",
    "\n",
    "train_dataset = CIFAR10Dataset(\n",
    "    [\n",
    "        \"data/cifar-10-batches-py/data_batch_1\",\n",
    "        \"data/cifar-10-batches-py/data_batch_2\",\n",
    "        \"data/cifar-10-batches-py/data_batch_3\",\n",
    "        \"data/cifar-10-batches-py/data_batch_4\",\n",
    "    ],\n",
    "    n_images=None,\n",
    "    transform=preprocess,\n",
    ")\n",
    "eval_dataset = CIFAR10Dataset(\n",
    "    [\"data/cifar-10-batches-py/data_batch_5\"],\n",
    "    n_images=None,\n",
    "    transform=preprocess,\n",
    ")\n",
    "test_dataset = CIFAR10Dataset(\n",
    "    [\"data/cifar-10-batches-py/test_batch\"],\n",
    "    n_images=None,\n",
    "    transform=preprocess,\n",
    ")\n",
    "\n",
    "meta = load_meta(\"data/cifar-10-batches-py/batches.meta\")"
   ]
  },
  {
   "cell_type": "markdown",
   "metadata": {
    "vscode": {
     "languageId": "plaintext"
    }
   },
   "source": [
    "## 1. Clip with Zero Shot"
   ]
  },
  {
   "cell_type": "code",
   "execution_count": null,
   "metadata": {},
   "outputs": [],
   "source": [
    "from loguru import logger\n",
    "\n",
    "from short_research_project.evaluation import eval_clip\n",
    "\n",
    "classes = [x.decode(\"utf-8\") for x in meta[b\"label_names\"]]\n",
    "logger.info(f\"Classes: {classes}\")\n",
    "\n",
    "y_true, y_pred = eval_clip(\n",
    "    dataset=test_dataset,\n",
    "    classes=classes,\n",
    "    clip_model=clip_model,\n",
    "    tokenizer=tokenizer,\n",
    "    batch_size=128,\n",
    "    print_classification_report=True,\n",
    ")"
   ]
  },
  {
   "cell_type": "markdown",
   "metadata": {},
   "source": [
    "## 2. Linear probe"
   ]
  },
  {
   "cell_type": "code",
   "execution_count": null,
   "metadata": {},
   "outputs": [],
   "source": [
    "from short_research_project.model.linear_probe import LinearProbeModel\n",
    "from short_research_project.train_linear_probe import train_linear_probe_model\n",
    "\n",
    "linear_probe_model = LinearProbeModel(input_dim=512, num_classes=10).to(\"cuda\")\n",
    "linear_probe_model = train_linear_probe_model(\n",
    "    clip_model=clip_model,\n",
    "    linear_probe_model=linear_probe_model,\n",
    "    train_dataset=train_dataset,\n",
    "    eval_dataset=eval_dataset,\n",
    "    batch_size=256,\n",
    "    device=\"cuda\",\n",
    "    epochs=10,\n",
    "    learning_rate=0.001,\n",
    "    log_every_n_steps=5,\n",
    ")\n",
    "\n",
    "# TODO: early stopping\n",
    "# TODO: more layers\n",
    "# TODO: evaluate in test set"
   ]
  },
  {
   "cell_type": "markdown",
   "metadata": {},
   "source": [
    "## 3. Prompt Engineering"
   ]
  },
  {
   "cell_type": "code",
   "execution_count": null,
   "metadata": {},
   "outputs": [],
   "source": [
    "prompted_classes = [\n",
    "    \"a photo of an airplane, which is a vehicle\",\n",
    "    \"a photo of an automobile, which is a vehicle\",\n",
    "    \"a photo of a bird, which is an animal\",\n",
    "    \"a photo of a cat, which is an animal\",\n",
    "    \"a photo of a deer, which is an animal\",\n",
    "    \"a photo of a dog, which is an animal\",\n",
    "    \"a photo of a frog, which is an animal\",\n",
    "    \"a photo of a horse, which is an animal\",\n",
    "    \"a photo of a ship, which is a vehicle\",\n",
    "    \"a photo of a truck which is a vehicle\",\n",
    "]\n",
    "\n",
    "logger.info(f\"Classes: {prompted_classes}\")\n",
    "\n",
    "y_true, y_pred = eval_clip(\n",
    "    dataset=test_dataset,\n",
    "    classes=prompted_classes,\n",
    "    clip_model=clip_model,\n",
    "    tokenizer=tokenizer,\n",
    "    batch_size=128,\n",
    "    print_classification_report=True,\n",
    ")"
   ]
  }
 ],
 "metadata": {
  "kernelspec": {
   "display_name": ".venv",
   "language": "python",
   "name": "python3"
  },
  "language_info": {
   "codemirror_mode": {
    "name": "ipython",
    "version": 3
   },
   "file_extension": ".py",
   "mimetype": "text/x-python",
   "name": "python",
   "nbconvert_exporter": "python",
   "pygments_lexer": "ipython3",
   "version": "3.12.9"
  }
 },
 "nbformat": 4,
 "nbformat_minor": 2
}
